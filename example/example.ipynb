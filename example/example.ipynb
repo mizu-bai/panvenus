{
 "cells": [
  {
   "cell_type": "markdown",
   "metadata": {},
   "source": [
    "Using `pyvenus96`"
   ]
  },
  {
   "cell_type": "code",
   "execution_count": 1,
   "metadata": {},
   "outputs": [],
   "source": [
    "import pyvenus96"
   ]
  },
  {
   "cell_type": "code",
   "execution_count": 2,
   "metadata": {},
   "outputs": [
    {
     "data": {
      "text/plain": [
       "{'Time': array([0.000e+00, 1.000e-02, 2.000e-02, ..., 9.998e+01, 9.999e+01,\n",
       "        1.000e+02]),\n",
       " 'Kinetic En.': array([75.85175734, 58.47269076, 55.44801231, ..., 52.37274595,\n",
       "        69.24242308, 69.53130694]),\n",
       " 'Potential': array([37.16412017, 54.54318633, 57.56786478, ..., 60.6415044 ,\n",
       "        43.77182728, 43.482943  ]),\n",
       " 'Total Energy': array([113.01587751, 113.01587709, 113.01587709, ..., 113.01425035,\n",
       "        113.01424994, 113.01424994])}"
      ]
     },
     "execution_count": 2,
     "metadata": {},
     "output_type": "execute_result"
    }
   ],
   "source": [
    "# read the VENUS96 output file\n",
    "path = \"ch4.out\"\n",
    "dic = pyvenus96.venus96_to_dict(path)\n",
    "\n",
    "dic"
   ]
  },
  {
   "cell_type": "code",
   "execution_count": 3,
   "metadata": {},
   "outputs": [
    {
     "data": {
      "text/plain": [
       "{'Time': 'ps',\n",
       " 'Kinetic En.': 'kJ/mol',\n",
       " 'Potential': 'kJ/mol',\n",
       " 'Total Energy': 'kJ/mol'}"
      ]
     },
     "execution_count": 3,
     "metadata": {},
     "output_type": "execute_result"
    }
   ],
   "source": [
    "# get the unts\n",
    "unit_dict = pyvenus96.get_unit_dictionary(path)\n",
    "\n",
    "unit_dict"
   ]
  },
  {
   "cell_type": "markdown",
   "metadata": {},
   "source": [
    "Using `panvenus96`"
   ]
  },
  {
   "cell_type": "code",
   "execution_count": 4,
   "metadata": {},
   "outputs": [],
   "source": [
    "import panvenus96"
   ]
  },
  {
   "cell_type": "code",
   "execution_count": 5,
   "metadata": {},
   "outputs": [
    {
     "data": {
      "text/html": [
       "<div>\n",
       "<style scoped>\n",
       "    .dataframe tbody tr th:only-of-type {\n",
       "        vertical-align: middle;\n",
       "    }\n",
       "\n",
       "    .dataframe tbody tr th {\n",
       "        vertical-align: top;\n",
       "    }\n",
       "\n",
       "    .dataframe thead th {\n",
       "        text-align: right;\n",
       "    }\n",
       "</style>\n",
       "<table border=\"1\" class=\"dataframe\">\n",
       "  <thead>\n",
       "    <tr style=\"text-align: right;\">\n",
       "      <th></th>\n",
       "      <th>Time</th>\n",
       "      <th>Kinetic En.</th>\n",
       "      <th>Potential</th>\n",
       "      <th>Total Energy</th>\n",
       "    </tr>\n",
       "  </thead>\n",
       "  <tbody>\n",
       "    <tr>\n",
       "      <th>0.00</th>\n",
       "      <td>0.00</td>\n",
       "      <td>75.851757</td>\n",
       "      <td>37.164120</td>\n",
       "      <td>113.015878</td>\n",
       "    </tr>\n",
       "    <tr>\n",
       "      <th>0.01</th>\n",
       "      <td>0.01</td>\n",
       "      <td>58.472691</td>\n",
       "      <td>54.543186</td>\n",
       "      <td>113.015877</td>\n",
       "    </tr>\n",
       "    <tr>\n",
       "      <th>0.02</th>\n",
       "      <td>0.02</td>\n",
       "      <td>55.448012</td>\n",
       "      <td>57.567865</td>\n",
       "      <td>113.015877</td>\n",
       "    </tr>\n",
       "    <tr>\n",
       "      <th>0.03</th>\n",
       "      <td>0.03</td>\n",
       "      <td>51.757851</td>\n",
       "      <td>61.258026</td>\n",
       "      <td>113.015877</td>\n",
       "    </tr>\n",
       "    <tr>\n",
       "      <th>0.04</th>\n",
       "      <td>0.04</td>\n",
       "      <td>43.408522</td>\n",
       "      <td>69.607355</td>\n",
       "      <td>113.015877</td>\n",
       "    </tr>\n",
       "    <tr>\n",
       "      <th>...</th>\n",
       "      <td>...</td>\n",
       "      <td>...</td>\n",
       "      <td>...</td>\n",
       "      <td>...</td>\n",
       "    </tr>\n",
       "    <tr>\n",
       "      <th>99.96</th>\n",
       "      <td>99.96</td>\n",
       "      <td>69.914766</td>\n",
       "      <td>43.099484</td>\n",
       "      <td>113.014250</td>\n",
       "    </tr>\n",
       "    <tr>\n",
       "      <th>99.97</th>\n",
       "      <td>99.97</td>\n",
       "      <td>61.327856</td>\n",
       "      <td>51.686394</td>\n",
       "      <td>113.014250</td>\n",
       "    </tr>\n",
       "    <tr>\n",
       "      <th>99.98</th>\n",
       "      <td>99.98</td>\n",
       "      <td>52.372746</td>\n",
       "      <td>60.641504</td>\n",
       "      <td>113.014250</td>\n",
       "    </tr>\n",
       "    <tr>\n",
       "      <th>99.99</th>\n",
       "      <td>99.99</td>\n",
       "      <td>69.242423</td>\n",
       "      <td>43.771827</td>\n",
       "      <td>113.014250</td>\n",
       "    </tr>\n",
       "    <tr>\n",
       "      <th>100.00</th>\n",
       "      <td>100.00</td>\n",
       "      <td>69.531307</td>\n",
       "      <td>43.482943</td>\n",
       "      <td>113.014250</td>\n",
       "    </tr>\n",
       "  </tbody>\n",
       "</table>\n",
       "<p>10001 rows × 4 columns</p>\n",
       "</div>"
      ],
      "text/plain": [
       "          Time  Kinetic En.  Potential  Total Energy\n",
       "0.00      0.00    75.851757  37.164120    113.015878\n",
       "0.01      0.01    58.472691  54.543186    113.015877\n",
       "0.02      0.02    55.448012  57.567865    113.015877\n",
       "0.03      0.03    51.757851  61.258026    113.015877\n",
       "0.04      0.04    43.408522  69.607355    113.015877\n",
       "...        ...          ...        ...           ...\n",
       "99.96    99.96    69.914766  43.099484    113.014250\n",
       "99.97    99.97    61.327856  51.686394    113.014250\n",
       "99.98    99.98    52.372746  60.641504    113.014250\n",
       "99.99    99.99    69.242423  43.771827    113.014250\n",
       "100.00  100.00    69.531307  43.482943    113.014250\n",
       "\n",
       "[10001 rows x 4 columns]"
      ]
     },
     "execution_count": 5,
     "metadata": {},
     "output_type": "execute_result"
    }
   ],
   "source": [
    "# read the VENUS96 output file\n",
    "path = \"ch4.out\"\n",
    "df = panvenus96.venus96_to_df(path)\n",
    "\n",
    "df"
   ]
  },
  {
   "cell_type": "code",
   "execution_count": 6,
   "metadata": {},
   "outputs": [
    {
     "data": {
      "text/plain": [
       "{'Time': 'ps',\n",
       " 'Kinetic En.': 'kJ/mol',\n",
       " 'Potential': 'kJ/mol',\n",
       " 'Total Energy': 'kJ/mol'}"
      ]
     },
     "execution_count": 6,
     "metadata": {},
     "output_type": "execute_result"
    }
   ],
   "source": [
    "# get the units\n",
    "unit_dict = panvenus96.get_unit_dictionary(path)\n",
    "unit_dict"
   ]
  },
  {
   "cell_type": "code",
   "execution_count": null,
   "metadata": {},
   "outputs": [],
   "source": []
  }
 ],
 "metadata": {
  "kernelspec": {
   "display_name": "jl-env",
   "language": "python",
   "name": "python3"
  },
  "language_info": {
   "codemirror_mode": {
    "name": "ipython",
    "version": 3
   },
   "file_extension": ".py",
   "mimetype": "text/x-python",
   "name": "python",
   "nbconvert_exporter": "python",
   "pygments_lexer": "ipython3",
   "version": "3.9.18"
  }
 },
 "nbformat": 4,
 "nbformat_minor": 2
}
